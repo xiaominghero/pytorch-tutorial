{
 "cells": [
  {
   "cell_type": "code",
   "execution_count": 1,
   "metadata": {},
   "outputs": [],
   "source": [
    "# Some part of the code was referenced from below.\n",
    "# https://github.com/pytorch/examples/tree/master/word_language_model \n",
    "import torch\n",
    "import torch.nn as nn\n",
    "import numpy as np\n",
    "from torch.nn.utils import clip_grad_norm_\n",
    "from data_utils import Dictionary, Corpus"
   ]
  },
  {
   "cell_type": "code",
   "execution_count": 2,
   "metadata": {},
   "outputs": [],
   "source": [
    "# Device configuration\n",
    "device = torch.device('cuda' if torch.cuda.is_available() else 'cpu')\n",
    "\n",
    "# Hyper-parameters\n",
    "embed_size = 128\n",
    "hidden_size = 1024\n",
    "num_layers = 1\n",
    "num_epochs = 5\n",
    "num_samples = 1000     # number of words to be sampled\n",
    "batch_size = 20\n",
    "seq_length = 30\n",
    "learning_rate = 0.002"
   ]
  },
  {
   "cell_type": "code",
   "execution_count": 3,
   "metadata": {},
   "outputs": [
    {
     "name": "stdout",
     "output_type": "stream",
     "text": [
      "torch.Size([20, 46479])\n",
      "1549\n"
     ]
    }
   ],
   "source": [
    "corpus = Corpus()\n",
    "ids = corpus.get_data('data/train.txt', batch_size)\n",
    "print(ids.size())\n",
    "vocab_size = len(corpus.dictionary)\n",
    "num_batches = ids.size(1) // seq_length\n",
    "print(num_batches)"
   ]
  },
  {
   "cell_type": "code",
   "execution_count": 4,
   "metadata": {},
   "outputs": [],
   "source": [
    "# RNN based language model\n",
    "class RNNLM(nn.Module):\n",
    "    \n",
    "    def __init__(self, vocab_size, embed_size, hidden_size, num_layers):\n",
    "        super(RNNLM, self).__init__()\n",
    "        self.embed = nn.Embedding(vocab_size, embed_size)\n",
    "        self.lstm = nn.LSTM(embed_size, hidden_size, \n",
    "                            num_layers, batch_first=True)\n",
    "        self.linear = nn.Linear(hidden_size, vocab_size)\n",
    "        \n",
    "    def forward(self, x, h):\n",
    "        x = self.embed(x)\n",
    "        \n",
    "        out, (h, c) = self.lstm(x, h)\n",
    "        out = out.reshape(out.size(0) * out.size(1), out.size(2))\n",
    "        \n",
    "        out = self.linear(out)\n",
    "        return out, (h, c)        "
   ]
  },
  {
   "cell_type": "code",
   "execution_count": 5,
   "metadata": {},
   "outputs": [
    {
     "name": "stdout",
     "output_type": "stream",
     "text": [
      "RNNLM(\n",
      "  (embed): Embedding(10000, 128)\n",
      "  (lstm): LSTM(128, 1024, batch_first=True)\n",
      "  (linear): Linear(in_features=1024, out_features=10000, bias=True)\n",
      ")\n",
      "torch.Size([10000, 128])\n",
      "torch.Size([4096, 128])\n",
      "torch.Size([4096, 1024])\n",
      "torch.Size([4096])\n",
      "torch.Size([4096])\n",
      "torch.Size([10000, 1024])\n",
      "torch.Size([10000])\n",
      "total trainable params: 16256784\n"
     ]
    }
   ],
   "source": [
    "model = RNNLM(vocab_size, embed_size, hidden_size, num_layers).to(device)\n",
    "print(model)\n",
    "criention = nn.CrossEntropyLoss()\n",
    "optimizer = torch.optim.Adam(model.parameters(), lr=learning_rate)\n",
    "\n",
    "# print parameters\n",
    "module_parameters = filter(lambda p: p.requires_grad, model.parameters())\n",
    "for p in module_parameters:\n",
    "    print(p.size())\n",
    "module_parameters = filter(lambda p: p.requires_grad, model.parameters())\n",
    "param_cnt = sum([np.prod(p.size()) for p in module_parameters])\n",
    "print('total trainable params: %d' % param_cnt)"
   ]
  },
  {
   "cell_type": "code",
   "execution_count": 6,
   "metadata": {},
   "outputs": [],
   "source": [
    "# Truncated backpropagation\n",
    "def detach(states):\n",
    "    return [state.detach() for state in states] "
   ]
  },
  {
   "cell_type": "code",
   "execution_count": 7,
   "metadata": {},
   "outputs": [
    {
     "name": "stdout",
     "output_type": "stream",
     "text": [
      "Epoch [1/5], Step[0/1549], Loss: 9.2086, Perplexity: 9982.97\n",
      "Epoch [1/5], Step[100/1549], Loss: 6.0185, Perplexity: 410.97\n",
      "Epoch [1/5], Step[200/1549], Loss: 5.9680, Perplexity: 390.72\n",
      "Epoch [1/5], Step[300/1549], Loss: 5.7744, Perplexity: 321.95\n",
      "Epoch [1/5], Step[400/1549], Loss: 5.6714, Perplexity: 290.44\n",
      "Epoch [1/5], Step[500/1549], Loss: 5.1324, Perplexity: 169.43\n",
      "Epoch [1/5], Step[600/1549], Loss: 5.2089, Perplexity: 182.89\n",
      "Epoch [1/5], Step[700/1549], Loss: 5.3481, Perplexity: 210.21\n",
      "Epoch [1/5], Step[800/1549], Loss: 5.1976, Perplexity: 180.84\n",
      "Epoch [1/5], Step[900/1549], Loss: 5.0130, Perplexity: 150.36\n",
      "Epoch [1/5], Step[1000/1549], Loss: 5.0749, Perplexity: 159.96\n",
      "Epoch [1/5], Step[1100/1549], Loss: 5.3591, Perplexity: 212.53\n",
      "Epoch [1/5], Step[1200/1549], Loss: 5.1829, Perplexity: 178.20\n",
      "Epoch [1/5], Step[1300/1549], Loss: 5.0702, Perplexity: 159.20\n",
      "Epoch [1/5], Step[1400/1549], Loss: 4.8467, Perplexity: 127.32\n",
      "Epoch [1/5], Step[1500/1549], Loss: 5.0828, Perplexity: 161.22\n",
      "Epoch [2/5], Step[0/1549], Loss: 5.4478, Perplexity: 232.24\n",
      "Epoch [2/5], Step[100/1549], Loss: 4.4939, Perplexity: 89.47\n",
      "Epoch [2/5], Step[200/1549], Loss: 4.7009, Perplexity: 110.05\n",
      "Epoch [2/5], Step[300/1549], Loss: 4.6967, Perplexity: 109.58\n",
      "Epoch [2/5], Step[400/1549], Loss: 4.5464, Perplexity: 94.29\n",
      "Epoch [2/5], Step[500/1549], Loss: 4.1526, Perplexity: 63.60\n",
      "Epoch [2/5], Step[600/1549], Loss: 4.4668, Perplexity: 87.08\n",
      "Epoch [2/5], Step[700/1549], Loss: 4.3707, Perplexity: 79.10\n",
      "Epoch [2/5], Step[800/1549], Loss: 4.4100, Perplexity: 82.27\n",
      "Epoch [2/5], Step[900/1549], Loss: 4.2345, Perplexity: 69.03\n",
      "Epoch [2/5], Step[1000/1549], Loss: 4.2528, Perplexity: 70.30\n",
      "Epoch [2/5], Step[1100/1549], Loss: 4.5843, Perplexity: 97.93\n",
      "Epoch [2/5], Step[1200/1549], Loss: 4.4942, Perplexity: 89.50\n",
      "Epoch [2/5], Step[1300/1549], Loss: 4.2151, Perplexity: 67.70\n",
      "Epoch [2/5], Step[1400/1549], Loss: 3.9784, Perplexity: 53.43\n",
      "Epoch [2/5], Step[1500/1549], Loss: 4.2461, Perplexity: 69.83\n",
      "Epoch [3/5], Step[0/1549], Loss: 4.4550, Perplexity: 86.06\n",
      "Epoch [3/5], Step[100/1549], Loss: 3.8012, Perplexity: 44.76\n",
      "Epoch [3/5], Step[200/1549], Loss: 4.0481, Perplexity: 57.29\n",
      "Epoch [3/5], Step[300/1549], Loss: 3.9301, Perplexity: 50.91\n",
      "Epoch [3/5], Step[400/1549], Loss: 3.8517, Perplexity: 47.07\n",
      "Epoch [3/5], Step[500/1549], Loss: 3.3865, Perplexity: 29.56\n",
      "Epoch [3/5], Step[600/1549], Loss: 3.8458, Perplexity: 46.80\n",
      "Epoch [3/5], Step[700/1549], Loss: 3.7216, Perplexity: 41.33\n",
      "Epoch [3/5], Step[800/1549], Loss: 3.7755, Perplexity: 43.62\n",
      "Epoch [3/5], Step[900/1549], Loss: 3.5302, Perplexity: 34.13\n",
      "Epoch [3/5], Step[1000/1549], Loss: 3.5295, Perplexity: 34.11\n",
      "Epoch [3/5], Step[1100/1549], Loss: 3.7632, Perplexity: 43.09\n",
      "Epoch [3/5], Step[1200/1549], Loss: 3.8223, Perplexity: 45.71\n",
      "Epoch [3/5], Step[1300/1549], Loss: 3.4204, Perplexity: 30.58\n",
      "Epoch [3/5], Step[1400/1549], Loss: 3.2209, Perplexity: 25.05\n",
      "Epoch [3/5], Step[1500/1549], Loss: 3.5569, Perplexity: 35.06\n",
      "Epoch [4/5], Step[0/1549], Loss: 3.6121, Perplexity: 37.05\n",
      "Epoch [4/5], Step[100/1549], Loss: 3.2424, Perplexity: 25.59\n",
      "Epoch [4/5], Step[200/1549], Loss: 3.4759, Perplexity: 32.33\n",
      "Epoch [4/5], Step[300/1549], Loss: 3.3740, Perplexity: 29.19\n",
      "Epoch [4/5], Step[400/1549], Loss: 3.3483, Perplexity: 28.45\n",
      "Epoch [4/5], Step[500/1549], Loss: 2.9057, Perplexity: 18.28\n",
      "Epoch [4/5], Step[600/1549], Loss: 3.3985, Perplexity: 29.92\n",
      "Epoch [4/5], Step[700/1549], Loss: 3.1748, Perplexity: 23.92\n",
      "Epoch [4/5], Step[800/1549], Loss: 3.2877, Perplexity: 26.78\n",
      "Epoch [4/5], Step[900/1549], Loss: 2.9629, Perplexity: 19.35\n",
      "Epoch [4/5], Step[1000/1549], Loss: 3.0684, Perplexity: 21.51\n",
      "Epoch [4/5], Step[1100/1549], Loss: 3.1423, Perplexity: 23.16\n",
      "Epoch [4/5], Step[1200/1549], Loss: 3.3427, Perplexity: 28.30\n",
      "Epoch [4/5], Step[1300/1549], Loss: 2.9614, Perplexity: 19.32\n",
      "Epoch [4/5], Step[1400/1549], Loss: 2.6943, Perplexity: 14.79\n",
      "Epoch [4/5], Step[1500/1549], Loss: 3.0581, Perplexity: 21.29\n",
      "Epoch [5/5], Step[0/1549], Loss: 3.1049, Perplexity: 22.31\n",
      "Epoch [5/5], Step[100/1549], Loss: 2.8621, Perplexity: 17.50\n",
      "Epoch [5/5], Step[200/1549], Loss: 3.1230, Perplexity: 22.71\n",
      "Epoch [5/5], Step[300/1549], Loss: 3.0402, Perplexity: 20.91\n",
      "Epoch [5/5], Step[400/1549], Loss: 3.0588, Perplexity: 21.30\n",
      "Epoch [5/5], Step[500/1549], Loss: 2.5389, Perplexity: 12.67\n",
      "Epoch [5/5], Step[600/1549], Loss: 3.0717, Perplexity: 21.58\n",
      "Epoch [5/5], Step[700/1549], Loss: 2.8956, Perplexity: 18.10\n",
      "Epoch [5/5], Step[800/1549], Loss: 3.0136, Perplexity: 20.36\n",
      "Epoch [5/5], Step[900/1549], Loss: 2.6627, Perplexity: 14.34\n",
      "Epoch [5/5], Step[1000/1549], Loss: 2.8031, Perplexity: 16.50\n",
      "Epoch [5/5], Step[1100/1549], Loss: 2.9325, Perplexity: 18.77\n",
      "Epoch [5/5], Step[1200/1549], Loss: 3.0769, Perplexity: 21.69\n",
      "Epoch [5/5], Step[1300/1549], Loss: 2.6476, Perplexity: 14.12\n",
      "Epoch [5/5], Step[1400/1549], Loss: 2.3873, Perplexity: 10.88\n",
      "Epoch [5/5], Step[1500/1549], Loss: 2.7803, Perplexity: 16.12\n"
     ]
    }
   ],
   "source": [
    "# Train the model\n",
    "for epoch in range(num_epochs):\n",
    "    # Set initial hidden and cell states\n",
    "    states = (torch.zeros(num_layers, batch_size, hidden_size).to(device),\n",
    "              torch.zeros(num_layers, batch_size, hidden_size).to(device))\n",
    "    \n",
    "    for i in range(0, ids.size(1) - seq_length, seq_length):\n",
    "        # Get mini-batch inputs and targets\n",
    "        inputs = ids[:, i:i+seq_length].to(device)\n",
    "        targets = ids[:, (i+1):(i+1)+seq_length].to(device)\n",
    "        \n",
    "        # Forward pass\n",
    "        states = detach(states)\n",
    "        outputs, states = model(inputs, states)\n",
    "        loss = criention(outputs, targets.reshape(-1))\n",
    "        \n",
    "        # Backward and optimize\n",
    "        model.zero_grad()\n",
    "        loss.backward()\n",
    "        clip_grad_norm_(model.parameters(), 0.5)\n",
    "        optimizer.step()\n",
    "\n",
    "        step = (i+1) // seq_length\n",
    "        if step % 100 == 0:\n",
    "            print ('Epoch [{}/{}], Step[{}/{}], Loss: {:.4f}, Perplexity: {:5.2f}'\n",
    "                   .format(epoch+1, num_epochs, step, num_batches, loss.item(), np.exp(loss.item())))\n"
   ]
  },
  {
   "cell_type": "code",
   "execution_count": 8,
   "metadata": {},
   "outputs": [
    {
     "name": "stdout",
     "output_type": "stream",
     "text": [
      "Sampled [100/1000] words and save to sample.txt\n",
      "Sampled [200/1000] words and save to sample.txt\n",
      "Sampled [300/1000] words and save to sample.txt\n",
      "Sampled [400/1000] words and save to sample.txt\n",
      "Sampled [500/1000] words and save to sample.txt\n",
      "Sampled [600/1000] words and save to sample.txt\n",
      "Sampled [700/1000] words and save to sample.txt\n",
      "Sampled [800/1000] words and save to sample.txt\n",
      "Sampled [900/1000] words and save to sample.txt\n",
      "Sampled [1000/1000] words and save to sample.txt\n"
     ]
    }
   ],
   "source": [
    "# Test the model\n",
    "with torch.no_grad():\n",
    "    with open('sample.txt', 'w') as f:\n",
    "        # Set intial hidden ane cell states\n",
    "        state = (torch.zeros(num_layers, 1, hidden_size).to(device),\n",
    "                 torch.zeros(num_layers, 1, hidden_size).to(device))\n",
    "\n",
    "        # Select one word id randomly\n",
    "        prob = torch.ones(vocab_size)\n",
    "        input = torch.multinomial(prob, num_samples=1).unsqueeze(1).to(device)\n",
    "\n",
    "        for i in range(num_samples):\n",
    "            # Forward propagate RNN \n",
    "            output, state = model(input, state)\n",
    "\n",
    "            # Sample a word id\n",
    "            prob = output.exp()\n",
    "            word_id = torch.multinomial(prob, num_samples=1).item()\n",
    "\n",
    "            # Fill input with sampled word id for the next time step\n",
    "            input.fill_(word_id)\n",
    "\n",
    "            # File write\n",
    "            word = corpus.dictionary.idx2word[word_id]\n",
    "            word = '\\n' if word == '<eos>' else word + ' '\n",
    "            f.write(word)\n",
    "\n",
    "            if (i+1) % 100 == 0:\n",
    "                print('Sampled [{}/{}] words and save to {}'.format(i+1, num_samples, 'sample.txt'))"
   ]
  },
  {
   "cell_type": "code",
   "execution_count": null,
   "metadata": {},
   "outputs": [],
   "source": [
    "# Save the model checkpoints\n",
    "torch.save(model.state_dict(), 'model.ckpt')"
   ]
  }
 ],
 "metadata": {
  "kernelspec": {
   "display_name": "Python 3",
   "language": "python",
   "name": "python3"
  },
  "language_info": {
   "codemirror_mode": {
    "name": "ipython",
    "version": 3
   },
   "file_extension": ".py",
   "mimetype": "text/x-python",
   "name": "python",
   "nbconvert_exporter": "python",
   "pygments_lexer": "ipython3",
   "version": "3.6.5"
  }
 },
 "nbformat": 4,
 "nbformat_minor": 2
}
